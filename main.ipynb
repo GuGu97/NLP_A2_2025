{
 "cells": [
  {
   "cell_type": "code",
   "execution_count": null,
   "metadata": {},
   "outputs": [
    {
     "name": "stdout",
     "output_type": "stream",
     "text": [
      "The autoreload extension is already loaded. To reload it, use:\n",
      "  %reload_ext autoreload\n"
     ]
    }
   ],
   "source": [
    "%load_ext autoreload\n",
    "%autoreload 2\n",
    "\n",
    "from data.dataloader import DataLoader"
   ]
  },
  {
   "cell_type": "code",
   "execution_count": 1,
   "metadata": {},
   "outputs": [
    {
     "name": "stdout",
     "output_type": "stream",
     "text": [
      "/home/haiyao/kefan_workspace/NLP_A2_2025\n"
     ]
    }
   ],
   "source": [
    "!pwd"
   ]
  },
  {
   "cell_type": "code",
   "execution_count": null,
   "metadata": {},
   "outputs": [],
   "source": [
    "import pandas as pd\n",
    "data = pd.read_csv('dataset.csv')"
   ]
  },
  {
   "cell_type": "code",
   "execution_count": null,
   "metadata": {},
   "outputs": [],
   "source": [
    "# preprocess title column\n",
    "data['cleaned_title'] = data['title'].apply(\n",
    "            lambda x: text_clean(x, nlp)\n",
    "        )"
   ]
  },
  {
   "cell_type": "code",
   "execution_count": null,
   "metadata": {},
   "outputs": [],
   "source": [
    "# generate wordcloud for the title in posts\n",
    "\n",
    "from wordcloud import WordCloud\n",
    "import matplotlib.pyplot as plt\n",
    "\n",
    "text = \" \".join(word for word in data_1['cleaned_title'])\n",
    "wordc = WordCloud(width = 800, height = 600, background_color='white').generate(text)\n",
    "plt.figure()\n",
    "plt.imshow(wordc, interpolation=\"bilinear\")\n",
    "plt.axis(\"off\")\n",
    "plt.show()"
   ]
  },
  {
   "cell_type": "code",
   "execution_count": null,
   "metadata": {},
   "outputs": [],
   "source": [
    "from sklearn.feature_extraction.text import TfidfVectorizer\n",
    "\n",
    "vectorizer = TfidfVectorizer(max_df=0.85)\n",
    "tfidf = vectorizer.fit_transform(data['cleaned_title'])\n",
    "\n",
    "feature_names = vectorizer.get_feature_names_out()\n",
    "idf_scores = vectorizer.idf_\n",
    "\n",
    "# create a dictionary mapping each term to its IDF score.\n",
    "idf_dict = dict(zip(feature_names, idf_scores))\n",
    "\n",
    "# sort the terms based on the IDF scores (lowest first).\n",
    "sorted_terms = sorted(idf_dict.items(), key=lambda item: item[1])\n",
    "#print(sorted_terms)\n",
    "\n",
    "# create custom stop words list to add those terms with low IDF score (threshold < 4)\n",
    "custom_stop_words = []\n",
    "for term, score in sorted_terms:\n",
    "    if score <= 4:\n",
    "        custom_stop_words.append(term)\n",
    "\n",
    "# again perform stop word removal\n",
    "def custom_stop_word_removal(text):\n",
    "    tokens = word_tokenize(text)\n",
    "    text = [word for word in tokens if word.lower() not in custom_stop_words]\n",
    "    text = \" \".join(text)\n",
    "    return text\n",
    "\n",
    "data_1['cleaned_title'] = data_1['cleaned_title'].apply(custom_stop_word_removal)"
   ]
  },
  {
   "cell_type": "code",
   "execution_count": null,
   "metadata": {},
   "outputs": [],
   "source": [
    "updated_text = \" \".join(word for word in data_1['cleaned_title_x'])\n",
    "updated_wordc = WordCloud(width = 800, height = 600, background_color='white').generate(updated_text)\n",
    "plt.figure()\n",
    "plt.imshow(updated_wordc, interpolation=\"bilinear\")\n",
    "plt.axis(\"off\")\n",
    "plt.show()"
   ]
  },
  {
   "cell_type": "code",
   "execution_count": null,
   "metadata": {},
   "outputs": [],
   "source": [
    "# topic modelling - LDA\n",
    "\n",
    "from sklearn.decomposition import LatentDirichletAllocation\n",
    "from sklearn.feature_extraction.text import CountVectorizer\n",
    "\n",
    "LDA_vectorizer = CountVectorizer(max_df=0.85)\n",
    "LDA_tfidf = LDA_vectorizer.fit_transform(data_1['cleaned_text'])\n",
    "\n",
    "lda = LatentDirichletAllocation(n_components=10)\n",
    "lda.fit(LDA_tfidf)\n",
    "\n",
    "feature_names = LDA_vectorizer.get_feature_names_out()\n",
    "for topic_idx, topic in enumerate(lda.components_):\n",
    "    top_words = [feature_names[i] for i in topic.argsort()[-10:]]\n",
    "    print(f\"Topic {topic_idx}: {' '.join(top_words)}\")"
   ]
  },
  {
   "cell_type": "code",
   "execution_count": null,
   "metadata": {},
   "outputs": [],
   "source": [
    "# K-means clustering with tf-idf\n",
    "\n",
    "from sklearn.feature_extraction.text import TfidfVectorizer\n",
    "from sklearn.cluster import KMeans\n",
    "\n",
    "k_vectorizer = TfidfVectorizer(max_df=0.85)\n",
    "k_tfidf = k_vectorizer.fit_transform(data_1['cleaned_text'])\n",
    "\n",
    "# Set number of clusters (e.g., 5) and perform k-means clustering.\n",
    "kmeans = KMeans(n_clusters=10)\n",
    "kmeans.fit(k_tfidf)\n",
    "\n",
    "\n",
    "# Extract cluster centers and find the top terms in each cluster.\n",
    "order_centroids = kmeans.cluster_centers_.argsort()[:, ::-1]\n",
    "terms = k_vectorizer.get_feature_names_out()\n",
    "\n",
    "for i in range(10):\n",
    "    top_terms = [terms[ind] for ind in order_centroids[i, :10]]\n",
    "    print(f\"Cluster {i}: {' '.join(top_terms)}\")"
   ]
  }
 ],
 "metadata": {
  "kernelspec": {
   "display_name": "ckf_nlp",
   "language": "python",
   "name": "python3"
  },
  "language_info": {
   "codemirror_mode": {
    "name": "ipython",
    "version": 3
   },
   "file_extension": ".py",
   "mimetype": "text/x-python",
   "name": "python",
   "nbconvert_exporter": "python",
   "pygments_lexer": "ipython3",
   "version": "3.11.11"
  }
 },
 "nbformat": 4,
 "nbformat_minor": 2
}
